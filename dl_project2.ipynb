{
 "cells": [
  {
   "cell_type": "markdown",
   "id": "9722ffbf-4bd7-4f71-acf1-4665d2160102",
   "metadata": {},
   "source": [
    "## Import libraries\n"
   ]
  },
  {
   "cell_type": "code",
   "execution_count": 36,
   "id": "9a6b63b0-3c2b-49c1-9d4d-110b081cff0b",
   "metadata": {},
   "outputs": [],
   "source": [
    "import os\n",
    "from PIL import Image\n",
    "import numpy as np\n",
    "import pandas as pd\n",
    "import torch\n",
    "from torch.utils.data import Dataset, DataLoader, TensorDataset\n",
    "from torchvision import transforms, models\n",
    "from tqdm import tqdm\n",
    "import matplotlib.pyplot as plt\n",
    "from sklearn.metrics import accuracy_score\n",
    "from sklearn.metrics import f1_score\n",
    "import torch.nn as nn\n",
    "import torch.nn.functional as F\n",
    "from torchvision.models import resnet50\n",
    "import torch.optim as optim\n",
    "import csv \n",
    "\n",
    "# import torchvision.transforms as transforms\n"
   ]
  },
  {
   "cell_type": "code",
   "execution_count": 12,
   "id": "ce79a1c1-788c-4a98-bc84-ebba3eceebf8",
   "metadata": {},
   "outputs": [
    {
     "name": "stdout",
     "output_type": "stream",
     "text": [
      "Tue Jan  2 17:59:31 2024       \n",
      "+-----------------------------------------------------------------------------+\n",
      "| NVIDIA-SMI 525.105.17   Driver Version: 525.105.17   CUDA Version: 12.0     |\n",
      "|-------------------------------+----------------------+----------------------+\n",
      "| GPU  Name        Persistence-M| Bus-Id        Disp.A | Volatile Uncorr. ECC |\n",
      "| Fan  Temp  Perf  Pwr:Usage/Cap|         Memory-Usage | GPU-Util  Compute M. |\n",
      "|                               |                      |               MIG M. |\n",
      "|===============================+======================+======================|\n",
      "|   0  NVIDIA GeForce ...  On   | 00000000:02:00.0 Off |                  N/A |\n",
      "| 28%   32C    P2    55W / 250W |    752MiB / 11264MiB |      0%      Default |\n",
      "|                               |                      |                  N/A |\n",
      "+-------------------------------+----------------------+----------------------+\n",
      "                                                                               \n",
      "+-----------------------------------------------------------------------------+\n",
      "| Processes:                                                                  |\n",
      "|  GPU   GI   CI        PID   Type   Process name                  GPU Memory |\n",
      "|        ID   ID                                                   Usage      |\n",
      "|=============================================================================|\n",
      "+-----------------------------------------------------------------------------+\n"
     ]
    }
   ],
   "source": [
    "!nvidia-smi"
   ]
  },
  {
   "cell_type": "markdown",
   "id": "27ebeb37-6f7a-452d-82eb-d9481970a414",
   "metadata": {},
   "source": [
    "## Load images and labels"
   ]
  },
  {
   "cell_type": "code",
   "execution_count": 7,
   "id": "598693cd-574f-49a2-984b-c7d5b691834c",
   "metadata": {},
   "outputs": [],
   "source": [
    "# Function to load images from a folder and convert them to a tensor\n",
    "def load_images_and_labels(images_path, labels_path):\n",
    "    df_labels = pd.read_csv(labels_path)\n",
    "    images_paths = os.listdir(images_path)\n",
    "    images = []\n",
    "    labels = []\n",
    "    for filename in tqdm(images_paths, desc = \"Reading images\"):\n",
    "        if filename.endswith(\".png\"):\n",
    "            img_path = os.path.join(images_path, filename)\n",
    "            img = Image.open(img_path).convert(\"RGB\")\n",
    "            img_array = np.array(img) / 255\n",
    "            label = df_labels[df_labels['Image'] == filename]['Class'].values[0]\n",
    "            images.append(img_array)\n",
    "            labels.append(label)\n",
    "    labels = np.array(labels)\n",
    "    images = np.array(images)\n",
    "    labels_tensor = torch.Tensor(labels)\n",
    "    images_tensor = torch.Tensor(images)\n",
    "    return images_tensor, labels_tensor\n"
   ]
  },
  {
   "cell_type": "code",
   "execution_count": 8,
   "id": "79be633e-69bd-4c04-955a-deab251e9b2d",
   "metadata": {},
   "outputs": [
    {
     "name": "stderr",
     "output_type": "stream",
     "text": [
      "Reading images: 100%|██████████| 13000/13000 [01:55<00:00, 112.94it/s]\n"
     ]
    },
    {
     "name": "stdout",
     "output_type": "stream",
     "text": [
      "Images Tensor Shape: torch.Size([13000, 64, 64, 3])\n",
      "Labels Tensor Shape: torch.Size([13000])\n"
     ]
    }
   ],
   "source": [
    "# Specify the paths\n",
    "train_images_folder_path = \"train_images\"\n",
    "labels_path = \"train.csv\"\n",
    "\n",
    "# Load images and labels into tensors\n",
    "train_images, train_labels = load_images_and_labels(train_images_folder_path, labels_path)\n",
    "\n",
    "# Print the shapes of the resulting tensors\n",
    "print(\"Images Tensor Shape:\", train_images.shape)\n",
    "print(\"Labels Tensor Shape:\", train_labels.shape)\n"
   ]
  },
  {
   "cell_type": "code",
   "execution_count": 9,
   "id": "fc19276e-24f4-4462-be73-bcdb6c14cb7d",
   "metadata": {},
   "outputs": [
    {
     "name": "stderr",
     "output_type": "stream",
     "text": [
      "Reading images: 100%|██████████| 2000/2000 [00:14<00:00, 136.87it/s]\n"
     ]
    },
    {
     "name": "stdout",
     "output_type": "stream",
     "text": [
      "Images Tensor Shape: torch.Size([2000, 64, 64, 3])\n",
      "Labels Tensor Shape: torch.Size([2000])\n"
     ]
    }
   ],
   "source": [
    "# Specify the paths\n",
    "val_images_folder_path = \"val_images\"\n",
    "labels_path = \"val.csv\"\n",
    "\n",
    "# Load images and labels into tensors\n",
    "val_images, val_labels = load_images_and_labels(val_images_folder_path, labels_path)\n",
    "\n",
    "# Print the shapes of the resulting tensors\n",
    "print(\"Images Tensor Shape:\", val_images.shape)\n",
    "print(\"Labels Tensor Shape:\", val_labels.shape)\n"
   ]
  },
  {
   "cell_type": "code",
   "execution_count": null,
   "id": "d9a58f30-217b-46ce-8962-1f3ec73645f3",
   "metadata": {},
   "outputs": [],
   "source": [
    "# Specify the paths\n",
    "test_images_folder_path = \"test_images\"\n",
    "labels_path = \"predictions2.csv\"\n",
    "\n",
    "# Load images and labels into tensors\n",
    "test_images, test_labels = load_images_and_labels(test_images_folder_path, labels_path)\n",
    "\n",
    "# Print the shapes of the resulting tensors\n",
    "print(\"Images Tensor Shape:\", test_images.shape)\n",
    "print(\"Labels Tensor Shape:\", test_labels.shape)\n"
   ]
  },
  {
   "cell_type": "markdown",
   "id": "9996df90-2e77-4606-906e-2690ab87e611",
   "metadata": {
    "jp-MarkdownHeadingCollapsed": true
   },
   "source": [
    "## EDA"
   ]
  },
  {
   "cell_type": "code",
   "execution_count": null,
   "id": "3c48b7fc-ae0f-4533-9992-dc295bb00e91",
   "metadata": {},
   "outputs": [],
   "source": [
    "num_examples_to_display = 7\n",
    "# Create subplots\n",
    "fig, axes = plt.subplots(6, 7, figsize=(8, 8))\n",
    "\n",
    "# Flatten the axes to simplify indexing\n",
    "axes = axes.flatten()\n",
    "i = 0\n",
    "\n",
    "for label in [20, 13, 22, 3, 47, 33]:\n",
    "    indices_in_class = np.where(test_labels == label)[0][:num_examples_to_display]\n",
    "    for index in indices_in_class:\n",
    "        example_image = test_images[index, :, :, :].numpy() \n",
    "        # print(f\"   Example {index}: {example_image.shape}\")\n",
    "        # print(f\"   Min value: {example_image.min()}\")\n",
    "        # print(f\"   Max value: {example_image.max()}\")\n",
    "        axes[i].imshow(example_image)\n",
    "        axes[i].axis('off')  # Turn off axis labels\n",
    "        axes[i].title.set_text(f\"Class {label}\")\n",
    "        i += 1\n",
    "# Adjust layout for better spacing\n",
    "plt.tight_layout()\n",
    "\n",
    "# Show the plot\n",
    "plt.show()"
   ]
  },
  {
   "cell_type": "markdown",
   "id": "5a5312ef-9e17-4cc9-9702-55e7227dfe72",
   "metadata": {},
   "source": [
    "## Dataset"
   ]
  },
  {
   "cell_type": "code",
   "execution_count": 10,
   "id": "a7e89121-9dc7-45ff-9ed4-6693977a759e",
   "metadata": {},
   "outputs": [
    {
     "name": "stderr",
     "output_type": "stream",
     "text": [
      "/tmp/ipykernel_56046/3824240039.py:13: UserWarning: To copy construct from a tensor, it is recommended to use sourceTensor.clone().detach() or sourceTensor.clone().detach().requires_grad_(True), rather than torch.tensor(sourceTensor).\n",
      "  X_train_tensor = torch.tensor(X_train, dtype=torch.float32).to('cuda')\n",
      "/tmp/ipykernel_56046/3824240039.py:14: UserWarning: To copy construct from a tensor, it is recommended to use sourceTensor.clone().detach() or sourceTensor.clone().detach().requires_grad_(True), rather than torch.tensor(sourceTensor).\n",
      "  y_train_tensor = torch.tensor(y_train, dtype=torch.int64).to('cuda')\n",
      "/tmp/ipykernel_56046/3824240039.py:15: UserWarning: To copy construct from a tensor, it is recommended to use sourceTensor.clone().detach() or sourceTensor.clone().detach().requires_grad_(True), rather than torch.tensor(sourceTensor).\n",
      "  X_test_tensor = torch.tensor(X_test, dtype=torch.float32).to('cuda')\n",
      "/tmp/ipykernel_56046/3824240039.py:16: UserWarning: To copy construct from a tensor, it is recommended to use sourceTensor.clone().detach() or sourceTensor.clone().detach().requires_grad_(True), rather than torch.tensor(sourceTensor).\n",
      "  y_test_tensor = torch.tensor(y_test, dtype=torch.int64).to('cuda')\n"
     ]
    }
   ],
   "source": [
    "# import torch\n",
    "# import torch.nn as nn\n",
    "# import torch.optim as optim\n",
    "# from torch.utils.data import TensorDataset, DataLoader\n",
    "from sklearn.model_selection import train_test_split\n",
    "from sklearn.metrics import accuracy_score\n",
    "\n",
    "train_images_permuted = train_images.permute((0, 3, 2, 1))\n",
    "# Split the data into train and test sets\n",
    "X_train, X_test, y_train, y_test = train_test_split(train_images_permuted, train_labels, test_size=0.2, random_state=42)\n",
    "\n",
    "# Convert NumPy arrays to PyTorch tensors\n",
    "X_train_tensor = torch.tensor(X_train, dtype=torch.float32).to('cuda')\n",
    "y_train_tensor = torch.tensor(y_train, dtype=torch.int64).to('cuda')\n",
    "X_test_tensor = torch.tensor(X_test, dtype=torch.float32).to('cuda')\n",
    "y_test_tensor = torch.tensor(y_test, dtype=torch.int64).to('cuda')\n",
    "\n"
   ]
  },
  {
   "cell_type": "code",
   "execution_count": 11,
   "id": "d85ca1da-6728-4af0-96d1-dd69748894be",
   "metadata": {},
   "outputs": [
    {
     "data": {
      "text/plain": [
       "(torch.Size([10400, 3, 64, 64]),\n",
       " torch.Size([10400]),\n",
       " torch.Size([2600, 3, 64, 64]),\n",
       " torch.Size([2600]))"
      ]
     },
     "execution_count": 11,
     "metadata": {},
     "output_type": "execute_result"
    }
   ],
   "source": [
    "X_train_tensor.shape, y_train_tensor.shape, X_test_tensor.shape, y_test_tensor.shape"
   ]
  },
  {
   "cell_type": "markdown",
   "id": "9529503a-3187-4167-bda4-071d4f8f08ac",
   "metadata": {},
   "source": [
    "## Train functions"
   ]
  },
  {
   "cell_type": "code",
   "execution_count": 48,
   "id": "b4ef63c6-e7b4-4899-9af5-f0de0cc735c4",
   "metadata": {},
   "outputs": [],
   "source": [
    "def train_model(model, optimizer, X_train, y_train, X_val, y_val, batch_size = 32, num_epochs = 10, save_weights = False, weights_path=\"weights\", last_epoch = 0):\n",
    "    val_loss_array = []\n",
    "    val_acc_array = []\n",
    "    train_loss_array = []\n",
    "    train_acc_array = []\n",
    "    \n",
    "    # Create a DataLoader for batching\n",
    "    train_dataset = TensorDataset(X_train, y_train)\n",
    "    train_loader = DataLoader(train_dataset, batch_size=batch_size, shuffle=True)\n",
    "    \n",
    "    model = model.to('cuda')\n",
    "    \n",
    "    # Define loss function and optimizer\n",
    "    criterion = nn.CrossEntropyLoss()\n",
    "    \n",
    "    for epoch in range(num_epochs):\n",
    "        model.train()\n",
    "        total_loss = 0.0\n",
    "        correct_predictions = 0\n",
    "        total_samples = 0\n",
    "    \n",
    "        for inputs, labels in train_loader:\n",
    "            inputs = inputs.to('cuda') # Move input data to GPU\n",
    "            labels = labels.type(torch.LongTensor)\n",
    "            labels = labels.to('cuda')\n",
    "\n",
    "            optimizer.zero_grad()\n",
    "    \n",
    "            # Forward pass\n",
    "            outputs = model(inputs)\n",
    "            # outputs = outputs.view(outputs.size(0), -1) \n",
    "            loss = criterion(outputs, labels)\n",
    "    \n",
    "            # Backward pass and optimization\n",
    "            loss.backward()\n",
    "            optimizer.step()\n",
    "    \n",
    "            total_loss += loss.item()\n",
    "    \n",
    "            # Calculate train accuracy\n",
    "            \n",
    "            # _, predicted = torch.max(outputs, 1)\n",
    "            # correct_predictions += (predicted == labels.flatten().type(torch.cuda.FloatTensor)).sum().item()\n",
    "            # predictions = (outputs > 0.5).float()\n",
    "            predictions = torch.argmax(outputs, dim=1).float()\n",
    "            correct_predictions += (predictions == labels).sum().item()\n",
    "            \n",
    "            total_samples += labels.size(0)\n",
    "    \n",
    "        average_loss = total_loss / len(train_loader)\n",
    "        accuracy = correct_predictions / total_samples\n",
    "        print(f'Epoch [{last_epoch + epoch + 1}/{num_epochs}], Train Loss: {average_loss:.4f}, Train Accuracy: {accuracy * 100:.2f}%')\n",
    "        val_loss, val_accuracy = validate(model, X_val, y_val, batch_size, nn.CrossEntropyLoss())\n",
    "        print(f'Epoch [{last_epoch + epoch + 1}/{num_epochs}], Val Loss: {val_loss:.4f}, Val Accuracy: {val_accuracy * 100:.2f}%')\n",
    "        if save_weights:\n",
    "            if val_accuracy > acc_max:\n",
    "                torch.save(model.state_dict(), f'weights/{weights_path}_epoch{last_epoch + epoch + 1}.pth')\n",
    "                print(\"weights saved\")\n",
    "                max_accuracy = val_accuracy\n",
    "\n",
    "        val_loss_array.append(val_loss)\n",
    "        val_acc_array.append(val_accuracy)\n",
    "        train_loss_array.append(average_loss)\n",
    "        train_acc_array.append(accuracy)\n",
    "    return val_loss_array, val_acc_array, train_loss_array, train_acc_array"
   ]
  },
  {
   "cell_type": "code",
   "execution_count": 14,
   "id": "357ade9b-2c2c-4678-a62d-657f058771c1",
   "metadata": {},
   "outputs": [],
   "source": [
    "def validate(model, X, y, batch_size, criterion = nn.CrossEntropyLoss()):\n",
    "   \n",
    "    dataset = TensorDataset(X, y)\n",
    "    data_loader = DataLoader(dataset, batch_size=batch_size, shuffle=True)\n",
    "    \n",
    "    model.eval()  # Set the model to evaluation mode\n",
    "    total_loss = 0.0\n",
    "    correct_predictions = 0\n",
    "    total_samples = 0\n",
    "\n",
    "    with torch.no_grad():  # Disable gradient computation during validation\n",
    "        for inputs, labels in data_loader:\n",
    "            inputs = inputs.to('cuda') # Move input data to GPU\n",
    "            labels = labels.type(torch.LongTensor)\n",
    "            labels = labels.to('cuda')\n",
    "\n",
    "            # Assuming inputs and labels are already on the GPU if using CUDA\n",
    "            outputs = model(inputs)\n",
    "            # outputs = outputs.view(outputs.size(0), -1) \n",
    "            loss = criterion(outputs, labels)\n",
    "            \n",
    "            total_loss += loss.item()\n",
    "            \n",
    "            # Convert outputs to binary predictions (0 or 1) based on a threshold (e.g., 0.5 for sigmoid)\n",
    "            # predictions = (outputs > 0.5).float()\n",
    "            predictions = torch.argmax(outputs, dim=1).float()\n",
    "            correct_predictions += (predictions == labels).sum().item()\n",
    "\n",
    "            total_samples += labels.size(0)\n",
    "\n",
    "    # Calculate average loss and accuracy\n",
    "    average_loss = total_loss / len(data_loader)\n",
    "    accuracy = correct_predictions / total_samples\n",
    "    # print(f'Epoch [{epoch + 1}/{num_epochs}], Loss: {average_loss:.4f}, Accuracy: {accuracy * 100:.2f}%')\n",
    "\n",
    "    return average_loss, accuracy\n"
   ]
  },
  {
   "cell_type": "code",
   "execution_count": 22,
   "id": "2abf1607-561f-4c31-aaa2-a2960057fff6",
   "metadata": {},
   "outputs": [],
   "source": [
    "def plot_loss_acc(val_loss_array, val_acc_array, train_loss_array, train_acc_array):\n",
    "    # Create a figure with subplots\n",
    "    fig, (ax1, ax2) = plt.subplots(2, 1, figsize=(10, 8))\n",
    "    epochs = range(1, len(val_loss_array)+1)\n",
    "    # Plot validation loss\n",
    "    ax1.plot(epochs, val_loss_array, 'orange', label='Validation Loss')\n",
    "    ax1.plot(epochs, train_loss_array, 'green',  label='Train Loss')\n",
    "    ax1.set_title('Loss')\n",
    "    ax1.set_xlabel('Epoch')\n",
    "    ax1.set_ylabel('Loss')\n",
    "    ax1.legend()\n",
    "    \n",
    "    # Plot validation accuracy\n",
    "    ax2.plot(epochs, val_acc_array, 'orange', label='Validation Accuracy')\n",
    "    ax2.plot(epochs, train_acc_array, 'green', label='Train Accuracy')\n",
    "    ax2.set_title('Validation Accuracy')\n",
    "    ax2.set_xlabel('Epoch')\n",
    "    ax2.set_ylabel('Accuracy')\n",
    "    ax2.legend()\n",
    "    \n",
    "    # Adjust layout\n",
    "    plt.tight_layout()\n",
    "    \n",
    "    # Show the plot\n",
    "    plt.show()"
   ]
  },
  {
   "cell_type": "markdown",
   "id": "07cdcf85-fe18-4748-bf0a-763c20f68af8",
   "metadata": {},
   "source": [
    "# Models"
   ]
  },
  {
   "cell_type": "markdown",
   "id": "2468acf5-8544-4bb9-a7cb-d9415e9a3650",
   "metadata": {},
   "source": [
    " ## Resnet "
   ]
  },
  {
   "cell_type": "code",
   "execution_count": 15,
   "id": "761c0640-12f8-42e2-b3eb-96ae426d7943",
   "metadata": {},
   "outputs": [],
   "source": [
    "# Define the basic block for ResNet\n",
    "class BasicBlock(nn.Module):\n",
    "    extansion = 1\n",
    "\n",
    "    def __init__(self, in_channels, out_channels, kernel_size, stride, padding):\n",
    "        super(BasicBlock, self).__init__()\n",
    "        self.conv1 = nn.Conv2d(in_channels, out_channels, kernel_size=kernel_size, stride=stride, padding=padding, bias=False)\n",
    "        self.bn1 = nn.BatchNorm2d(out_channels)\n",
    "        self.relu = nn.ReLU(inplace=True)\n",
    "        self.conv2 = nn.Conv2d(out_channels, out_channels, kernel_size=kernel_size, stride=1, padding=padding, bias=False)\n",
    "        self.bn2 = nn.BatchNorm2d(out_channels)\n",
    "\n",
    "        # Shortcut connection to match dimensions\n",
    "        # self.shortcut = nn.Sequential()\n",
    "        # if stride != 1 or in_channels != self.extansion * out_channels:\n",
    "        #     print(\"reached downsample\", in_channels, self.extansion * out_channels)\n",
    "        #     self.shortcut = nn.Sequential(\n",
    "        #         nn.Conv2d(in_channels, self.extansion * out_channels, kernel_size=1, stride=stride, bias=False),\n",
    "        #         nn.BatchNorm2d(self.extansion * out_channels)\n",
    "            # )\n",
    "        self.downsample = None\n",
    "        # if is_first_block and stride != 1:\n",
    "        if stride != 1 or in_channels != self.extansion * out_channels:\n",
    "            self.downsample = nn.Sequential(nn.Conv2d(in_channels=in_channels, \n",
    "                                                      out_channels= out_channels,\n",
    "                                                      kernel_size=1,\n",
    "                                                      stride=stride,\n",
    "                                                      padding=0),\n",
    "                                            nn.BatchNorm2d(out_channels))\n",
    "\n",
    "    def forward(self, x):\n",
    "        residual = x.clone()\n",
    "        # print(\"block initial shape:\", x.shape)\n",
    "        x = self.relu(self.bn1(self.conv1(x)))\n",
    "        # print(\"block shape after conv1:\", x.shape)\n",
    "        x = self.bn2(self.conv2(x))\n",
    "        # print(\"block shape after conv2:\", x.shape)\n",
    "        if self.downsample:\n",
    "            residual = self.downsample(residual)\n",
    "        x += residual\n",
    "        # print(\"block shape after residual:\", x.shape)\n",
    "        x = self.relu(x)\n",
    "        return x\n"
   ]
  },
  {
   "cell_type": "code",
   "execution_count": 16,
   "id": "945e354d-0012-4e2e-97c2-56c60b3b0d91",
   "metadata": {},
   "outputs": [],
   "source": [
    "# Define the ResNet model\n",
    "class ResNet(nn.Module):\n",
    "    def __init__(self, block, num_blocks, num_classes=100):\n",
    "        super(ResNet, self).__init__()\n",
    "        self.in_channels = 64\n",
    "        self.conv1 = nn.Conv2d(3, 64, kernel_size=3, stride=1, padding=1, bias=False)\n",
    "        self.bn1 = nn.BatchNorm2d(64)\n",
    "        self.relu = nn.ReLU(inplace=True)\n",
    "        self.layer1 = self.make_layer(block, 64, num_blocks[0], 3, 1, 1)\n",
    "        self.layer2 = self.make_layer(block, 128, num_blocks[1]*block.extansion, 3, 2, 1)\n",
    "        self.layer3 = self.make_layer(block, 256, num_blocks[2]*block.extansion, 3, 2, 1)\n",
    "        self.avg_pool = nn.AdaptiveAvgPool2d((1, 1))\n",
    "        self.fc = nn.Linear(256 * block.extansion, num_classes)\n",
    "\n",
    "    def make_layer(self, block, out_channels, num_blocks, kernel_size, stride, padding):\n",
    "        layers = []\n",
    "        layers.append(block(self.in_channels, out_channels, kernel_size, stride, padding))\n",
    "        self.in_channels = out_channels * block.extansion\n",
    "        for _ in range(1, num_blocks):\n",
    "            layers.append(block(self.in_channels, out_channels, kernel_size, 1, padding))\n",
    "        return nn.Sequential(*layers)\n",
    "\n",
    "    def forward(self, x):\n",
    "        x = self.relu(self.bn1(self.conv1(x)))\n",
    "        # print(\"resnet first layers shape:\", x.shape)\n",
    "        x = self.layer1(x)\n",
    "        # print(\"layer1 shape:\", x.shape)\n",
    "        x = self.layer2(x)\n",
    "        # print(\"layer2 shape:\", x.shape)\n",
    "        x = self.layer3(x)\n",
    "        # print(\"layer3 shape:\", x.shape)\n",
    "        # Classification head\n",
    "        y = self.avg_pool(x)\n",
    "        y = y.reshape(y.shape[0], -1)\n",
    "        # print(\"classification shape:\", y.shape)\n",
    "        y = self.fc(y)\n",
    "        # print(\"classification shape:\", y.shape)\n",
    "        return y\n",
    "\n"
   ]
  },
  {
   "cell_type": "code",
   "execution_count": 17,
   "id": "4752e9b6-501c-4de3-b4b6-e7faa010fe25",
   "metadata": {},
   "outputs": [
    {
     "name": "stdout",
     "output_type": "stream",
     "text": [
      "torch.Size([1, 3, 64, 64])\n",
      "torch.Size([1, 100])\n"
     ]
    }
   ],
   "source": [
    "model = ResNet(BasicBlock, [2, 2, 2, 2])\n",
    "# model = model.to(\"cuda\")\n",
    "sample = X_train[0].unsqueeze(-1).permute(3, 0, 1, 2)\n",
    "print(sample.shape)\n",
    "out = model(sample)\n",
    "# out = out.view(out.size(0), -1) \n",
    "print(out.shape)"
   ]
  },
  {
   "cell_type": "code",
   "execution_count": 24,
   "id": "a513ecf7-864c-4be3-93bb-8a3ce4f5a0a5",
   "metadata": {
    "scrolled": true
   },
   "outputs": [
    {
     "name": "stdout",
     "output_type": "stream",
     "text": [
      "Epoch [1/30], Train Loss: 3.4197, Train Accuracy: 15.29%\n",
      "Epoch [1/30], Val Loss: 6.6507, Val Accuracy: 6.31%\n",
      "Epoch [2/30], Train Loss: 2.5229, Train Accuracy: 30.83%\n",
      "Epoch [2/30], Val Loss: 2.6131, Val Accuracy: 31.27%\n",
      "Epoch [3/30], Train Loss: 2.0995, Train Accuracy: 40.26%\n",
      "Epoch [3/30], Val Loss: 3.0309, Val Accuracy: 24.23%\n",
      "Epoch [4/30], Train Loss: 1.8267, Train Accuracy: 46.18%\n",
      "Epoch [4/30], Val Loss: 3.8525, Val Accuracy: 22.62%\n",
      "Epoch [5/30], Train Loss: 1.6353, Train Accuracy: 51.56%\n",
      "Epoch [5/30], Val Loss: 2.0469, Val Accuracy: 45.88%\n",
      "Epoch [6/30], Train Loss: 1.4613, Train Accuracy: 56.82%\n",
      "Epoch [6/30], Val Loss: 2.3209, Val Accuracy: 37.27%\n",
      "Epoch [7/30], Train Loss: 1.3547, Train Accuracy: 59.30%\n",
      "Epoch [7/30], Val Loss: 1.5766, Val Accuracy: 53.96%\n",
      "Epoch [8/30], Train Loss: 1.2220, Train Accuracy: 63.34%\n",
      "Epoch [8/30], Val Loss: 1.5918, Val Accuracy: 51.62%\n",
      "Epoch [9/30], Train Loss: 1.1390, Train Accuracy: 65.03%\n",
      "Epoch [9/30], Val Loss: 2.0244, Val Accuracy: 47.12%\n",
      "Epoch [10/30], Train Loss: 1.0542, Train Accuracy: 67.63%\n",
      "Epoch [10/30], Val Loss: 1.5090, Val Accuracy: 55.69%\n",
      "Epoch [11/30], Train Loss: 0.9909, Train Accuracy: 69.17%\n",
      "Epoch [11/30], Val Loss: 1.3490, Val Accuracy: 59.35%\n",
      "Epoch [12/30], Train Loss: 0.9166, Train Accuracy: 71.66%\n",
      "Epoch [12/30], Val Loss: 1.2032, Val Accuracy: 63.42%\n",
      "Epoch [13/30], Train Loss: 0.8531, Train Accuracy: 73.10%\n",
      "Epoch [13/30], Val Loss: 1.4345, Val Accuracy: 59.46%\n",
      "Epoch [14/30], Train Loss: 0.7971, Train Accuracy: 75.29%\n",
      "Epoch [14/30], Val Loss: 1.2365, Val Accuracy: 62.85%\n",
      "Epoch [15/30], Train Loss: 0.7509, Train Accuracy: 75.66%\n",
      "Epoch [15/30], Val Loss: 1.3391, Val Accuracy: 62.62%\n",
      "Epoch [16/30], Train Loss: 0.7023, Train Accuracy: 77.93%\n",
      "Epoch [16/30], Val Loss: 1.2620, Val Accuracy: 64.23%\n",
      "Epoch [17/30], Train Loss: 0.6548, Train Accuracy: 79.27%\n",
      "Epoch [17/30], Val Loss: 1.3388, Val Accuracy: 62.00%\n",
      "Epoch [18/30], Train Loss: 0.6217, Train Accuracy: 80.35%\n",
      "Epoch [18/30], Val Loss: 1.0669, Val Accuracy: 67.58%\n",
      "Epoch [19/30], Train Loss: 0.5691, Train Accuracy: 81.73%\n",
      "Epoch [19/30], Val Loss: 1.0990, Val Accuracy: 68.19%\n",
      "Epoch [20/30], Train Loss: 0.5400, Train Accuracy: 82.40%\n",
      "Epoch [20/30], Val Loss: 1.3130, Val Accuracy: 63.73%\n",
      "Epoch [21/30], Train Loss: 0.5094, Train Accuracy: 83.36%\n",
      "Epoch [21/30], Val Loss: 1.0661, Val Accuracy: 68.58%\n",
      "Epoch [22/30], Train Loss: 0.4507, Train Accuracy: 85.60%\n",
      "Epoch [22/30], Val Loss: 1.1815, Val Accuracy: 66.65%\n",
      "Epoch [23/30], Train Loss: 0.4183, Train Accuracy: 86.91%\n",
      "Epoch [23/30], Val Loss: 1.2400, Val Accuracy: 66.92%\n",
      "Epoch [24/30], Train Loss: 0.3826, Train Accuracy: 87.90%\n",
      "Epoch [24/30], Val Loss: 1.0080, Val Accuracy: 70.92%\n",
      "weights saved\n",
      "Epoch [25/30], Train Loss: 0.3463, Train Accuracy: 89.29%\n",
      "Epoch [25/30], Val Loss: 1.0472, Val Accuracy: 69.85%\n",
      "Epoch [26/30], Train Loss: 0.3227, Train Accuracy: 90.31%\n",
      "Epoch [26/30], Val Loss: 1.3799, Val Accuracy: 63.19%\n",
      "Epoch [27/30], Train Loss: 0.2921, Train Accuracy: 90.92%\n",
      "Epoch [27/30], Val Loss: 1.1528, Val Accuracy: 68.65%\n",
      "Epoch [28/30], Train Loss: 0.2437, Train Accuracy: 92.83%\n",
      "Epoch [28/30], Val Loss: 1.1378, Val Accuracy: 69.81%\n",
      "Epoch [29/30], Train Loss: 0.2320, Train Accuracy: 93.42%\n",
      "Epoch [29/30], Val Loss: 1.1047, Val Accuracy: 70.96%\n",
      "weights saved\n",
      "Epoch [30/30], Train Loss: 0.2087, Train Accuracy: 94.25%\n",
      "Epoch [30/30], Val Loss: 1.1330, Val Accuracy: 70.50%\n",
      "weights saved\n"
     ]
    }
   ],
   "source": [
    "model = ResNet(BasicBlock, [2, 2, 2, 2])\n",
    "model = model.to('cuda')\n",
    "# optimizer = optim.Adam(model.parameters(), lr=0.001)\n",
    "optimizer = optim.SGD(model.parameters(), lr=0.01, momentum=0.9)\n",
    "val_loss_array, val_acc_array, train_loss_array, train_acc_array = train_model(model, optimizer, X_train, y_train, X_test, y_test, batch_size = 32, num_epochs = 30, save_weights = True, weights_path = \"resnet_SGD\")"
   ]
  },
  {
   "cell_type": "code",
   "execution_count": 27,
   "id": "0dd8b26a-00eb-43d7-9f25-8d962b2affa4",
   "metadata": {},
   "outputs": [
    {
     "data": {
      "image/png": "[encoded data removed]",
      "text/plain": [
       "<Figure size 1000x800 with 2 Axes>"
      ]
     },
     "metadata": {},
     "output_type": "display_data"
    }
   ],
   "source": [
    "plot_loss_acc(val_loss_array, val_acc_array, train_loss_array, train_acc_array)"
   ]
  },
  {
   "cell_type": "code",
   "execution_count": 26,
   "id": "afe83445-b3c4-402c-b47b-d453fdb1a45f",
   "metadata": {
    "scrolled": true
   },
   "outputs": [
    {
     "name": "stdout",
     "output_type": "stream",
     "text": [
      "Epoch [31/15], Train Loss: 0.1740, Train Accuracy: 95.24%\n",
      "Epoch [31/15], Val Loss: 1.1754, Val Accuracy: 69.00%\n",
      "Epoch [32/15], Train Loss: 0.1489, Train Accuracy: 96.13%\n",
      "Epoch [32/15], Val Loss: 1.1014, Val Accuracy: 70.77%\n",
      "weights saved\n",
      "Epoch [33/15], Train Loss: 0.1468, Train Accuracy: 96.15%\n",
      "Epoch [33/15], Val Loss: 1.4142, Val Accuracy: 65.42%\n",
      "Epoch [34/15], Train Loss: 0.1240, Train Accuracy: 96.93%\n",
      "Epoch [34/15], Val Loss: 1.1264, Val Accuracy: 70.12%\n",
      "weights saved\n",
      "Epoch [35/15], Train Loss: 0.0845, Train Accuracy: 98.35%\n",
      "Epoch [35/15], Val Loss: 0.9609, Val Accuracy: 75.42%\n",
      "weights saved\n",
      "Epoch [36/15], Train Loss: 0.0871, Train Accuracy: 98.11%\n",
      "Epoch [36/15], Val Loss: 1.0994, Val Accuracy: 71.46%\n",
      "weights saved\n",
      "Epoch [37/15], Train Loss: 0.0856, Train Accuracy: 98.32%\n",
      "Epoch [37/15], Val Loss: 1.1208, Val Accuracy: 71.65%\n",
      "weights saved\n",
      "Epoch [38/15], Train Loss: 0.0750, Train Accuracy: 98.41%\n",
      "Epoch [38/15], Val Loss: 1.1059, Val Accuracy: 72.19%\n",
      "weights saved\n",
      "Epoch [39/15], Train Loss: 0.0555, Train Accuracy: 99.04%\n",
      "Epoch [39/15], Val Loss: 0.9826, Val Accuracy: 74.69%\n",
      "weights saved\n",
      "Epoch [40/15], Train Loss: 0.0472, Train Accuracy: 99.22%\n",
      "Epoch [40/15], Val Loss: 1.0269, Val Accuracy: 73.42%\n",
      "weights saved\n",
      "Epoch [41/15], Train Loss: 0.0449, Train Accuracy: 99.32%\n",
      "Epoch [41/15], Val Loss: 1.0287, Val Accuracy: 74.31%\n",
      "weights saved\n",
      "Epoch [42/15], Train Loss: 0.0318, Train Accuracy: 99.52%\n",
      "Epoch [42/15], Val Loss: 0.9999, Val Accuracy: 75.23%\n",
      "weights saved\n",
      "Epoch [43/15], Train Loss: 0.0331, Train Accuracy: 99.48%\n",
      "Epoch [43/15], Val Loss: 1.0162, Val Accuracy: 74.42%\n",
      "weights saved\n",
      "Epoch [44/15], Train Loss: 0.0277, Train Accuracy: 99.63%\n",
      "Epoch [44/15], Val Loss: 0.9391, Val Accuracy: 76.85%\n",
      "weights saved\n",
      "Epoch [45/15], Train Loss: 0.0223, Train Accuracy: 99.69%\n",
      "Epoch [45/15], Val Loss: 0.9067, Val Accuracy: 76.58%\n",
      "weights saved\n"
     ]
    }
   ],
   "source": [
    "val_loss_array, val_acc_array, train_loss_array, train_acc_array = train_model(model, optimizer, X_train, y_train, X_test, y_test, batch_size = 32, num_epochs = 15, save_weights = True, weights_path = \"resnet_SGD\", last_epoch = 30)"
   ]
  },
  {
   "cell_type": "code",
   "execution_count": 38,
   "id": "c6224ade-b73d-45be-8135-d7296850d76b",
   "metadata": {
    "scrolled": true
   },
   "outputs": [
    {
     "name": "stdout",
     "output_type": "stream",
     "text": [
      "Epoch [46/15], Train Loss: 0.0205, Train Accuracy: 99.66%\n",
      "Epoch [46/15], Val Loss: 1.0044, Val Accuracy: 75.04%\n",
      "weights saved\n",
      "Epoch [47/15], Train Loss: 0.0233, Train Accuracy: 99.62%\n",
      "Epoch [47/15], Val Loss: 1.1613, Val Accuracy: 71.62%\n",
      "weights saved\n",
      "Epoch [48/15], Train Loss: 0.0224, Train Accuracy: 99.69%\n",
      "Epoch [48/15], Val Loss: 0.9401, Val Accuracy: 76.92%\n",
      "weights saved\n",
      "Epoch [49/15], Train Loss: 0.0193, Train Accuracy: 99.66%\n",
      "Epoch [49/15], Val Loss: 0.9502, Val Accuracy: 76.62%\n",
      "weights saved\n",
      "Epoch [50/15], Train Loss: 0.0162, Train Accuracy: 99.72%\n",
      "Epoch [50/15], Val Loss: 0.9318, Val Accuracy: 76.81%\n",
      "weights saved\n",
      "Epoch [51/15], Train Loss: 0.0156, Train Accuracy: 99.73%\n",
      "Epoch [51/15], Val Loss: 0.9355, Val Accuracy: 77.27%\n",
      "weights saved\n",
      "Epoch [52/15], Train Loss: 0.0151, Train Accuracy: 99.76%\n",
      "Epoch [52/15], Val Loss: 0.9450, Val Accuracy: 77.04%\n",
      "weights saved\n",
      "Epoch [53/15], Train Loss: 0.0135, Train Accuracy: 99.75%\n",
      "Epoch [53/15], Val Loss: 0.9419, Val Accuracy: 77.54%\n",
      "weights saved\n",
      "Epoch [54/15], Train Loss: 0.0133, Train Accuracy: 99.74%\n",
      "Epoch [54/15], Val Loss: 0.9540, Val Accuracy: 77.27%\n",
      "weights saved\n",
      "Epoch [55/15], Train Loss: 0.0127, Train Accuracy: 99.73%\n",
      "Epoch [55/15], Val Loss: 0.9289, Val Accuracy: 77.62%\n",
      "weights saved\n",
      "Epoch [56/15], Train Loss: 0.0135, Train Accuracy: 99.73%\n",
      "Epoch [56/15], Val Loss: 0.9644, Val Accuracy: 77.50%\n",
      "weights saved\n",
      "Epoch [57/15], Train Loss: 0.0128, Train Accuracy: 99.75%\n",
      "Epoch [57/15], Val Loss: 0.9661, Val Accuracy: 76.54%\n",
      "weights saved\n",
      "Epoch [58/15], Train Loss: 0.0123, Train Accuracy: 99.73%\n",
      "Epoch [58/15], Val Loss: 0.9919, Val Accuracy: 76.46%\n",
      "weights saved\n",
      "Epoch [59/15], Train Loss: 0.0127, Train Accuracy: 99.75%\n",
      "Epoch [59/15], Val Loss: 0.9624, Val Accuracy: 77.62%\n",
      "weights saved\n",
      "Epoch [60/15], Train Loss: 0.0129, Train Accuracy: 99.73%\n",
      "Epoch [60/15], Val Loss: 0.9490, Val Accuracy: 77.54%\n",
      "weights saved\n"
     ]
    }
   ],
   "source": [
    "val_loss_array, val_acc_array, train_loss_array, train_acc_array = train_model(model, optimizer, X_train, y_train, X_test, y_test, batch_size = 32, num_epochs = 15, save_weights = True, weights_path = \"resnet_SGD\", last_epoch = 45)"
   ]
  },
  {
   "cell_type": "code",
   "execution_count": 49,
   "id": "5c2b741c-0bd6-44e6-92e2-0817937d8322",
   "metadata": {
    "scrolled": true
   },
   "outputs": [
    {
     "name": "stdout",
     "output_type": "stream",
     "text": [
      "Epoch [62/15], Train Loss: 0.0101, Train Accuracy: 99.74%\n",
      "Epoch [62/15], Val Loss: 0.9738, Val Accuracy: 77.92%\n",
      "Epoch [63/15], Train Loss: 0.0099, Train Accuracy: 99.73%\n",
      "Epoch [63/15], Val Loss: 0.9886, Val Accuracy: 77.50%\n",
      "Epoch [64/15], Train Loss: 0.0100, Train Accuracy: 99.76%\n",
      "Epoch [64/15], Val Loss: 0.9810, Val Accuracy: 77.54%\n",
      "Epoch [65/15], Train Loss: 0.0101, Train Accuracy: 99.74%\n",
      "Epoch [65/15], Val Loss: 0.9690, Val Accuracy: 78.15%\n",
      "weights saved\n",
      "Epoch [66/15], Train Loss: 0.0180, Train Accuracy: 99.57%\n",
      "Epoch [66/15], Val Loss: 1.2326, Val Accuracy: 72.62%\n",
      "Epoch [67/15], Train Loss: 0.0202, Train Accuracy: 99.58%\n",
      "Epoch [67/15], Val Loss: 1.0743, Val Accuracy: 75.65%\n",
      "Epoch [68/15], Train Loss: 0.0156, Train Accuracy: 99.67%\n",
      "Epoch [68/15], Val Loss: 1.0177, Val Accuracy: 76.77%\n",
      "Epoch [69/15], Train Loss: 0.0112, Train Accuracy: 99.75%\n",
      "Epoch [69/15], Val Loss: 1.0078, Val Accuracy: 76.77%\n",
      "Epoch [70/15], Train Loss: 0.0119, Train Accuracy: 99.71%\n",
      "Epoch [70/15], Val Loss: 1.0672, Val Accuracy: 75.00%\n",
      "Epoch [71/15], Train Loss: 0.0125, Train Accuracy: 99.70%\n",
      "Epoch [71/15], Val Loss: 1.0211, Val Accuracy: 76.27%\n",
      "Epoch [72/15], Train Loss: 0.0105, Train Accuracy: 99.73%\n",
      "Epoch [72/15], Val Loss: 0.9850, Val Accuracy: 77.27%\n",
      "Epoch [73/15], Train Loss: 0.0099, Train Accuracy: 99.74%\n",
      "Epoch [73/15], Val Loss: 1.0117, Val Accuracy: 76.92%\n",
      "Epoch [74/15], Train Loss: 0.0130, Train Accuracy: 99.68%\n",
      "Epoch [74/15], Val Loss: 1.1258, Val Accuracy: 75.38%\n",
      "Epoch [75/15], Train Loss: 0.0129, Train Accuracy: 99.74%\n",
      "Epoch [75/15], Val Loss: 1.0181, Val Accuracy: 77.31%\n",
      "Epoch [76/15], Train Loss: 0.0107, Train Accuracy: 99.73%\n",
      "Epoch [76/15], Val Loss: 1.0380, Val Accuracy: 76.81%\n"
     ]
    }
   ],
   "source": [
    "acc_max = 0.78\n",
    "val_loss_array, val_acc_array, train_loss_array, train_acc_array = train_model(model, optimizer, X_train, y_train, X_test, y_test, batch_size = 32, num_epochs = 15, save_weights = True, weights_path = \"resnet_SGD\", last_epoch = 61)"
   ]
  },
  {
   "cell_type": "markdown",
   "id": "e1abefef-18c8-4f2b-9504-dd1e72c25c23",
   "metadata": {},
   "source": [
    "# Test on validation data"
   ]
  },
  {
   "cell_type": "code",
   "execution_count": 33,
   "id": "869db67f-89c7-440f-a3f2-4e022291e765",
   "metadata": {},
   "outputs": [
    {
     "name": "stderr",
     "output_type": "stream",
     "text": [
      "/tmp/ipykernel_56046/765930203.py:1: UserWarning: To copy construct from a tensor, it is recommended to use sourceTensor.clone().detach() or sourceTensor.clone().detach().requires_grad_(True), rather than torch.tensor(sourceTensor).\n",
      "  X_val = torch.tensor(val_images, dtype=torch.float32).to('cuda')\n",
      "/tmp/ipykernel_56046/765930203.py:4: UserWarning: To copy construct from a tensor, it is recommended to use sourceTensor.clone().detach() or sourceTensor.clone().detach().requires_grad_(True), rather than torch.tensor(sourceTensor).\n",
      "  y_val = torch.tensor(val_labels, dtype=torch.int64)\n"
     ]
    }
   ],
   "source": [
    "X_val = torch.tensor(val_images, dtype=torch.float32).to('cuda')\n",
    "X_val = X_val.permute((0, 3, 2, 1))\n",
    "\n",
    "y_val = torch.tensor(val_labels, dtype=torch.int64)"
   ]
  },
  {
   "cell_type": "code",
   "execution_count": 53,
   "id": "e4596899-5a09-4cbe-81d6-ead099c9c6dc",
   "metadata": {},
   "outputs": [
    {
     "data": {
      "text/plain": [
       "<All keys matched successfully>"
      ]
     },
     "execution_count": 53,
     "metadata": {},
     "output_type": "execute_result"
    }
   ],
   "source": [
    "model2 = ResNet(BasicBlock, [2, 2, 2, 2]).to(\"cuda\")\n",
    "model2.load_state_dict(torch.load('weights/resnet_SGD_epoch63.pth'))\n"
   ]
  },
  {
   "cell_type": "code",
   "execution_count": 30,
   "id": "bbf2410e-60f6-4aff-b3e2-426e2f74eabf",
   "metadata": {},
   "outputs": [],
   "source": [
    "def predict_from_test_data(model, images_path):\n",
    "    images_paths = os.listdir(images_path)\n",
    "    images = []\n",
    "    filenames = []\n",
    "    for filename in tqdm(images_paths, desc = \"Reading images\"):\n",
    "        if filename.endswith(\".png\"):\n",
    "            img_path = os.path.join(images_path, filename)\n",
    "            img = Image.open(img_path).convert(\"RGB\")\n",
    "            img_array = np.array(img) / 255\n",
    "            images.append(img_array)\n",
    "            filenames.append(filename)\n",
    "    images = np.array(images)\n",
    "    images_tensor = torch.Tensor(images)\n",
    "    # images_tensor = torch.tensor(images, dtype=torch.float32).to('cuda')\n",
    "    images_tensor = images_tensor.permute((0, 3, 2, 1))\n",
    "    dataset = TensorDataset(images_tensor)\n",
    "    data_loader = DataLoader(dataset, batch_size=1, shuffle=False)\n",
    "\n",
    "    model.eval()  # Set the model to evaluation mode\n",
    "    model.to(\"cuda\")\n",
    "    \n",
    "    all_predictions = []\n",
    "    with torch.no_grad():  # Disable gradient computation during prediction\n",
    "        for inputs in data_loader:            \n",
    "            inputs = inputs[0].to('cuda')  # Move input data to GPU\n",
    "            outputs = model(inputs)\n",
    "    \n",
    "            predictions = torch.argmax(outputs, dim=1).float()\n",
    "            all_predictions.append(predictions.cpu().numpy())\n",
    "\n",
    "    return filenames, all_predictions"
   ]
  },
  {
   "cell_type": "code",
   "execution_count": 54,
   "id": "ad173ca2-1da4-42c6-a21f-0e42ea5e52e9",
   "metadata": {},
   "outputs": [
    {
     "name": "stderr",
     "output_type": "stream",
     "text": [
      "Reading images: 100%|██████████| 2000/2000 [00:00<00:00, 2325.25it/s]\n"
     ]
    }
   ],
   "source": [
    "images_names_val, predicted_labels_val =  predict_from_test_data(model2, \"val_images\")"
   ]
  },
  {
   "cell_type": "code",
   "execution_count": 55,
   "id": "c941f12c-8a9e-4905-bd7e-5e1babd9ccaa",
   "metadata": {},
   "outputs": [
    {
     "name": "stdout",
     "output_type": "stream",
     "text": [
      "Test F1 Score: 0.7850\n"
     ]
    }
   ],
   "source": [
    "f1 = f1_score(y_val, predicted_labels_val, average='macro')  # 'weighted' takes class imbalance into account\n",
    "\n",
    "print(f'Test F1 Score: {f1:.4f}')"
   ]
  },
  {
   "cell_type": "markdown",
   "id": "2dd6ac60-c718-45a6-80e7-8d45f02d5865",
   "metadata": {},
   "source": [
    "# Predict test data"
   ]
  },
  {
   "cell_type": "code",
   "execution_count": 56,
   "id": "3bd6b1bd-5abe-4160-ac2f-73913aa9dc12",
   "metadata": {},
   "outputs": [
    {
     "name": "stderr",
     "output_type": "stream",
     "text": [
      "Reading images: 100%|██████████| 5000/5000 [00:02<00:00, 1956.47it/s]\n"
     ]
    }
   ],
   "source": [
    "images_names_test, predicted_labels_test =  predict_from_test_data(model2, \"test_images\")"
   ]
  },
  {
   "cell_type": "code",
   "execution_count": 57,
   "id": "c74e415a-3790-4dad-9bcf-2c08abf5d072",
   "metadata": {},
   "outputs": [],
   "source": [
    "predicted_labels_test_array = [int(x[0]) for x in predicted_labels_test]"
   ]
  },
  {
   "cell_type": "code",
   "execution_count": 59,
   "id": "56607427-e361-46e7-8235-7e5dfdc6cd80",
   "metadata": {},
   "outputs": [
    {
     "name": "stdout",
     "output_type": "stream",
     "text": [
      "CSV file 'predictions2_sgd.csv' has been successfully created.\n"
     ]
    }
   ],
   "source": [
    "data = list(zip(images_names_test, predicted_labels_test_array))\n",
    "\n",
    "# Specify the CSV file path\n",
    "csv_file_path = \"predictions2_sgd.csv\"\n",
    "\n",
    "# Write data to the CSV file\n",
    "with open(csv_file_path, mode='w', newline='') as file:\n",
    "    writer = csv.writer(file)\n",
    "    \n",
    "    # Write the header\n",
    "    writer.writerow(['Image', 'Class'])\n",
    "    \n",
    "    # Write the data\n",
    "    writer.writerows(data)\n",
    "\n",
    "print(f\"CSV file '{csv_file_path}' has been successfully created.\")"
   ]
  },
  {
   "cell_type": "markdown",
   "id": "b9e785d1-eabc-4e33-afd4-8bbd8fbf8969",
   "metadata": {},
   "source": [
    "## idk"
   ]
  },
  {
   "cell_type": "code",
   "execution_count": 60,
   "id": "c3d0a7bf-430e-49a3-8c4b-da2a455f4558",
   "metadata": {},
   "outputs": [
    {
     "data": {
      "text/plain": [
       "3000"
      ]
     },
     "execution_count": 60,
     "metadata": {},
     "output_type": "execute_result"
    }
   ],
   "source": [
    "from collections import Counter\n",
    "\n",
    "count = Counter(predicted_labels_test_array)\n",
    "deviations = [abs(value - 20) for value in count.values()]\n",
    "\n",
    "sum(deviations)\n"
   ]
  }
 ],
 "metadata": {
  "kernelspec": {
   "display_name": "Python 3 (ipykernel)",
   "language": "python",
   "name": "python3"
  },
  "language_info": {
   "codemirror_mode": {
    "name": "ipython",
    "version": 3
   },
   "file_extension": ".py",
   "mimetype": "text/x-python",
   "name": "python",
   "nbconvert_exporter": "python",
   "pygments_lexer": "ipython3",
   "version": "3.11.5"
  }
 },
 "nbformat": 4,
 "nbformat_minor": 5
}
